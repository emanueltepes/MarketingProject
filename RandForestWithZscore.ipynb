{
 "cells": [
  {
   "cell_type": "code",
   "execution_count": 1,
   "id": "formal-answer",
   "metadata": {},
   "outputs": [],
   "source": [
    "import pandas as pd\n",
    "import numpy as np\n",
    "import matplotlib.pyplot as plt\n",
    "import seaborn as sns\n",
    "from scipy import stats"
   ]
  },
  {
   "cell_type": "code",
   "execution_count": 2,
   "id": "varied-absence",
   "metadata": {},
   "outputs": [],
   "source": [
    "def removeOutliers(dataFrame, zScoreTreshold):\n",
    "    print(dataFrame.shape)\n",
    "    numericalVariablesColumnsList = [\"campaign_payout\", \"clicks\", \"conversions\", \"payout\", \"net\", \"TR.ROI\", \"EPC\", \"train_clicks\"]\n",
    "    z = np.abs(stats.zscore(dataFrame[numericalVariablesColumnsList]))\n",
    "    dataFrame_o = dataFrame[(z < zScoreTreshold).all(axis=1)]\n",
    "    print(dataFrame_o.shape)\n",
    "    return dataFrame_o"
   ]
  },
  {
   "cell_type": "code",
   "execution_count": 3,
   "id": "focused-prior",
   "metadata": {},
   "outputs": [],
   "source": [
    "data = pd.read_csv('train_data.csv')"
   ]
  },
  {
   "cell_type": "code",
   "execution_count": 5,
   "id": "fewer-georgia",
   "metadata": {},
   "outputs": [
    {
     "name": "stdout",
     "output_type": "stream",
     "text": [
      "(50781, 38)\n",
      "(49070, 38)\n"
     ]
    }
   ],
   "source": [
    "data_optimised = removeOutliers(data,3)"
   ]
  },
  {
   "cell_type": "code",
   "execution_count": 6,
   "id": "domestic-surprise",
   "metadata": {},
   "outputs": [],
   "source": [
    "X = data[['clicks','conversions','revenue','lp_clicks','cpc','cost','impressions','net','TR.ROI','EPC']]\n",
    "y = data[['predictions_class']]"
   ]
  },
  {
   "cell_type": "code",
   "execution_count": 8,
   "id": "wound-charleston",
   "metadata": {},
   "outputs": [],
   "source": [
    "from sklearn.cluster import KMeans\n",
    "from sklearn.decomposition import PCA\n",
    "from sklearn.model_selection import train_test_split\n",
    "from sklearn.metrics import accuracy_score\n",
    "from sklearn import preprocessing\n",
    "from sklearn import metrics\n",
    "from sklearn import tree\n",
    "from sklearn.model_selection import cross_validate\n",
    "from sklearn.model_selection import GridSearchCV\n",
    "from sklearn.utils import resample\n",
    "from imblearn.over_sampling import SMOTE\n",
    "from imblearn.over_sampling import ADASYN\n",
    "from imblearn.under_sampling import RandomUnderSampler\n",
    "\n",
    "# labelencoder for y\n",
    "le = preprocessing.LabelEncoder()\n",
    "y = y.values.reshape(1,-1)[0]\n",
    "y = le.fit_transform(y)\n"
   ]
  },
  {
   "cell_type": "code",
   "execution_count": 9,
   "id": "hearing-development",
   "metadata": {},
   "outputs": [],
   "source": [
    "from sklearn.ensemble import RandomForestClassifier"
   ]
  },
  {
   "cell_type": "code",
   "execution_count": 10,
   "id": "following-diameter",
   "metadata": {},
   "outputs": [],
   "source": [
    "a = ADASYN()\n",
    "\n",
    "X_train, X_test, y_train, y_test = train_test_split(X, y, test_size=0.3, random_state=42)\n",
    "X_res, y_res = X_train, y_train \n",
    "a.fit_resample(X_train, y_train)\n",
    "scaler = preprocessing.StandardScaler().fit(X_train)\n",
    "X_train = scaler.transform(X_train)\n",
    "X_test = scaler.transform(X_test)"
   ]
  },
  {
   "cell_type": "code",
   "execution_count": 11,
   "id": "collected-knock",
   "metadata": {},
   "outputs": [],
   "source": [
    "model_crf = RandomForestClassifier()"
   ]
  },
  {
   "cell_type": "code",
   "execution_count": 12,
   "id": "attempted-module",
   "metadata": {},
   "outputs": [],
   "source": [
    "X_train, X_test, y_train, y_test = train_test_split(X, y, test_size=0.3, random_state=42)"
   ]
  },
  {
   "cell_type": "code",
   "execution_count": 13,
   "id": "extraordinary-lemon",
   "metadata": {},
   "outputs": [
    {
     "data": {
      "text/plain": [
       "RandomForestClassifier()"
      ]
     },
     "execution_count": 13,
     "metadata": {},
     "output_type": "execute_result"
    }
   ],
   "source": [
    "model_crf.fit(X_res,y_res)"
   ]
  },
  {
   "cell_type": "code",
   "execution_count": 14,
   "id": "global-luther",
   "metadata": {},
   "outputs": [],
   "source": [
    "y_pred = model_crf.predict(X_test)"
   ]
  },
  {
   "cell_type": "code",
   "execution_count": 15,
   "id": "tight-value",
   "metadata": {},
   "outputs": [],
   "source": [
    "from sklearn.metrics import confusion_matrix"
   ]
  },
  {
   "cell_type": "code",
   "execution_count": 16,
   "id": "driving-tsunami",
   "metadata": {},
   "outputs": [
    {
     "name": "stdout",
     "output_type": "stream",
     "text": [
      "[[1206    0  131  398]\n",
      " [   2   61   25    2]\n",
      " [ 116    9 3654  460]\n",
      " [ 144    0  215 8812]]\n"
     ]
    }
   ],
   "source": [
    "confusion_matrix = confusion_matrix(y_test,y_pred)\n",
    "print(confusion_matrix)"
   ]
  },
  {
   "cell_type": "code",
   "execution_count": 17,
   "id": "periodic-banner",
   "metadata": {},
   "outputs": [],
   "source": [
    "from sklearn.metrics import classification_report, confusion_matrix, accuracy_score"
   ]
  },
  {
   "cell_type": "code",
   "execution_count": 18,
   "id": "disciplinary-series",
   "metadata": {},
   "outputs": [
    {
     "name": "stdout",
     "output_type": "stream",
     "text": [
      "[[1206    0  131  398]\n",
      " [   2   61   25    2]\n",
      " [ 116    9 3654  460]\n",
      " [ 144    0  215 8812]]\n",
      "              precision    recall  f1-score   support\n",
      "\n",
      "           0       0.82      0.70      0.75      1735\n",
      "           1       0.87      0.68      0.76        90\n",
      "           2       0.91      0.86      0.88      4239\n",
      "           3       0.91      0.96      0.94      9171\n",
      "\n",
      "    accuracy                           0.90     15235\n",
      "   macro avg       0.88      0.80      0.83     15235\n",
      "weighted avg       0.90      0.90      0.90     15235\n",
      "\n",
      "0.9014112241549065\n"
     ]
    }
   ],
   "source": [
    "print(confusion_matrix(y_test,y_pred))\n",
    "print(classification_report(y_test,y_pred))\n",
    "print(accuracy_score(y_test, y_pred))"
   ]
  },
  {
   "cell_type": "code",
   "execution_count": null,
   "id": "improving-nudist",
   "metadata": {},
   "outputs": [],
   "source": []
  }
 ],
 "metadata": {
  "kernelspec": {
   "display_name": "Python 3",
   "language": "python",
   "name": "python3"
  },
  "language_info": {
   "codemirror_mode": {
    "name": "ipython",
    "version": 3
   },
   "file_extension": ".py",
   "mimetype": "text/x-python",
   "name": "python",
   "nbconvert_exporter": "python",
   "pygments_lexer": "ipython3",
   "version": "3.9.0"
  }
 },
 "nbformat": 4,
 "nbformat_minor": 5
}
